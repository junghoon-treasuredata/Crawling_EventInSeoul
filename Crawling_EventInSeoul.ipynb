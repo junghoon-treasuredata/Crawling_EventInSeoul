{
 "cells": [
  {
   "cell_type": "code",
   "execution_count": 3,
   "metadata": {},
   "outputs": [],
   "source": [
    "from selenium import webdriver\n",
    "from selenium.webdriver.common.keys import Keys\n",
    "from bs4 import BeautifulSoup\n",
    "import time"
   ]
  },
  {
   "cell_type": "markdown",
   "metadata": {},
   "source": [
    "크롬 드라이버 설치\n",
    "https://chromedriver.chromium.org/downloads\n",
    "압축풀어서 해당 path입력 webdriver.Chrome(path)\n",
    "동일한 경로면 비우면 됨 webdriver.Chrome()"
   ]
  },
  {
   "cell_type": "code",
   "execution_count": 6,
   "metadata": {},
   "outputs": [],
   "source": [
    "driver = webdriver.Chrome()"
   ]
  },
  {
   "cell_type": "code",
   "execution_count": 8,
   "metadata": {},
   "outputs": [],
   "source": [
    "driver.get('https://10times.com/seoul-kr')\n",
    "time.sleep(1)"
   ]
  },
  {
   "cell_type": "markdown",
   "metadata": {},
   "source": [
    "<h1>젤 하단까지 스크롤"
   ]
  },
  {
   "cell_type": "code",
   "execution_count": 14,
   "metadata": {},
   "outputs": [],
   "source": [
    "last_height = driver.execute_script(\"return document.body.scrollHeight\")\n",
    "while True:\n",
    "    # Scroll down to bottom\n",
    "    driver.execute_script(\"window.scrollTo(0, document.body.scrollHeight);\")\n",
    "\n",
    "    # Wait to load page\n",
    "    time.sleep(1)\n",
    "\n",
    "    # Calculate new scroll height and compare with last scroll height\n",
    "    new_height = driver.execute_script(\"return document.body.scrollHeight\")\n",
    "    if new_height == last_height:\n",
    "        break\n",
    "    last_height = new_height"
   ]
  },
  {
   "cell_type": "markdown",
   "metadata": {},
   "source": [
    "<h1>Beautiful Soup로 읽어오기"
   ]
  },
  {
   "cell_type": "code",
   "execution_count": 119,
   "metadata": {},
   "outputs": [
    {
     "name": "stdout",
     "output_type": "stream",
     "text": [
      "Events in Seoul, Upcoming Events, All Popular Events to Attend in Seoul, South Korea\n"
     ]
    }
   ],
   "source": [
    "html = driver.page_source\n",
    "\n",
    "soup = BeautifulSoup(html, 'html.parser')\n",
    "\n",
    "# 3) 필요한 데이터 검색\n",
    "title = soup.find('title')\n",
    "print(title.get_text())"
   ]
  },
  {
   "cell_type": "markdown",
   "metadata": {},
   "source": [
    "<h1>원하는 내용 위치 찾아보기"
   ]
  },
  {
   "cell_type": "code",
   "execution_count": 120,
   "metadata": {},
   "outputs": [
    {
     "name": "stdout",
     "output_type": "stream",
     "text": [
      "326\n",
      "<tr class=\"box\"><td class=\"text-drkr\" data-localizer=\"ignore\"><img alt=\"\" class=\"lazy pull-right\" src=\"https://im.10times.com/1.png?c=web&amp;s=eventlisting&amp;p=eventsnippet&amp;e=900629,898369,944587&amp;k=40df9820fed3226393d245bbba8a3e7c\" style=\"display: block;\"/>Fri, 31 Jan - Mon, 03 Feb 2020<small class=\"comming text-warning\">starting tomorrow</small></td><td><h2 data-edition=\"900629\" id=\"222357\"><a href=\"https://10times.com/mbc-construction-fair\" target=\"_blank\">MBC Construction Fair</a><i class=\"verified-check tt-svg-sm\"></i></h2></td><td> <span class=\"venue text-drkr\">SETEC, Seoul</span></td><td></td><td> <span class=\"label label-blue\">Tradeshow</span> <a class=\"label label-tag\" href=\"https://10times.com/building-construction\">Building &amp; Construction</a></td><td class=\"tb-foot\"> <a class=\"btn btn-sm btn-default a-m x-es-blb\" data-param=\"interest\" href=\"javascript:void(0)\"><i class=\"fa text-muted fa-star\"></i> Interested</a> <a class=\"btn btn-xs flash\" href=\"https://10times.com/mbc-construction-fair/visitors\" target=\"_blank\">370 following</a> <a class=\"label label-success\" href=\"https://10times.com/mbc-construction-fair/reviews\" target=\"_blank\"><i class=\"fa fa-star\"></i><strong class=\"fw-7\"> 4.1</strong></a><span class=\"pull-right\"> <a aria-label=\"evt_share\" class=\"btn btn-sm x-es-brsb\" href=\"javascript:void(0)\" onclick=\"invite_friends(this)\"><i class=\"fa fa-share share\"></i></a> <a aria-label=\"evt_bkmrk\" class=\"btn btn-sm atnd_modal x-es-blh\" data-param=\"bookmark\" href=\"javascript:void(0)\"><i class=\"fa fa-bookmark-o follow\"></i></a></span></td></tr>\n"
     ]
    }
   ],
   "source": [
    "paragraph_data = soup.find_all('tr', {'class':'box'})\n",
    "\n",
    "print(len(paragraph_data))\n",
    "row0 = paragraph_data[0]\n",
    "print(row0)"
   ]
  },
  {
   "cell_type": "code",
   "execution_count": 121,
   "metadata": {},
   "outputs": [
    {
     "data": {
      "text/plain": [
       "6"
      ]
     },
     "execution_count": 121,
     "metadata": {},
     "output_type": "execute_result"
    }
   ],
   "source": [
    "select_td = row0.select('td')\n",
    "len(select_td)"
   ]
  },
  {
   "cell_type": "markdown",
   "metadata": {},
   "source": [
    "6일때 원하는 데이터가 있음"
   ]
  },
  {
   "cell_type": "code",
   "execution_count": 122,
   "metadata": {},
   "outputs": [
    {
     "name": "stdout",
     "output_type": "stream",
     "text": [
      "<td class=\"text-drkr\" data-localizer=\"ignore\"><img alt=\"\" class=\"lazy pull-right\" src=\"https://im.10times.com/1.png?c=web&amp;s=eventlisting&amp;p=eventsnippet&amp;e=900629,898369,944587&amp;k=40df9820fed3226393d245bbba8a3e7c\" style=\"display: block;\"/>Fri, 31 Jan - Mon, 03 Feb 2020<small class=\"comming text-warning\">starting tomorrow</small></td>\n",
      "Fri, 31 Jan - Mon, 03 Feb 2020starting tomorrow\n"
     ]
    }
   ],
   "source": [
    "html_date = row0.select('td')[0]\n",
    "print(html_date)\n",
    "print(html_date.get_text())"
   ]
  },
  {
   "cell_type": "markdown",
   "metadata": {},
   "source": [
    "<h1>regex로 날짜파싱"
   ]
  },
  {
   "cell_type": "code",
   "execution_count": 123,
   "metadata": {},
   "outputs": [
    {
     "name": "stdout",
     "output_type": "stream",
     "text": [
      "[('Fri, 31', 'Jan', ''), ('Mon, 03', 'Feb', '2020')]\n"
     ]
    }
   ],
   "source": [
    "import re\n",
    "\n",
    "strDate = html_date.get_text()\n",
    "listDate = re.findall('(?P<date>\\w{3}, \\d{2})\\s?(?P<month>\\w{3})?\\s?(?P<year>\\d{4})?', strDate)\n",
    "print(listDate)"
   ]
  },
  {
   "cell_type": "markdown",
   "metadata": {},
   "source": [
    "<h1>title 링크"
   ]
  },
  {
   "cell_type": "code",
   "execution_count": 124,
   "metadata": {},
   "outputs": [
    {
     "name": "stdout",
     "output_type": "stream",
     "text": [
      "<td><h2 data-edition=\"900629\" id=\"222357\"><a href=\"https://10times.com/mbc-construction-fair\" target=\"_blank\">MBC Construction Fair</a><i class=\"verified-check tt-svg-sm\"></i></h2></td>\n",
      "MBC Construction Fair\n",
      "https://10times.com/mbc-construction-fair\n"
     ]
    }
   ],
   "source": [
    "html_title = row0.select('td')[1]\n",
    "print(html_title)\n",
    "print(html_title.get_text())\n",
    "\n",
    "link_title = html_title.select('a')[0].get('href')\n",
    "print(link_title)"
   ]
  },
  {
   "cell_type": "markdown",
   "metadata": {},
   "source": [
    "<h2>place정보"
   ]
  },
  {
   "cell_type": "code",
   "execution_count": 125,
   "metadata": {},
   "outputs": [
    {
     "name": "stdout",
     "output_type": "stream",
     "text": [
      "<td> <span class=\"venue text-drkr\">SETEC, Seoul</span></td>\n",
      " SETEC, Seoul\n"
     ]
    }
   ],
   "source": [
    "html_place = row0.select('td')[2]\n",
    "print(html_place)\n",
    "print(html_place.get_text())"
   ]
  },
  {
   "cell_type": "markdown",
   "metadata": {},
   "source": [
    "<h2>title2 정보"
   ]
  },
  {
   "cell_type": "code",
   "execution_count": 126,
   "metadata": {},
   "outputs": [
    {
     "name": "stdout",
     "output_type": "stream",
     "text": [
      "<td></td>\n",
      "\n"
     ]
    }
   ],
   "source": [
    "html_title2 = row0.select('td')[3]\n",
    "print(html_title2)\n",
    "print(html_title2.get_text())"
   ]
  },
  {
   "cell_type": "markdown",
   "metadata": {},
   "source": [
    "<h2>타입 & 카테고리 정보"
   ]
  },
  {
   "cell_type": "code",
   "execution_count": 127,
   "metadata": {},
   "outputs": [
    {
     "name": "stdout",
     "output_type": "stream",
     "text": [
      "<td> <span class=\"label label-blue\">Tradeshow</span> <a class=\"label label-tag\" href=\"https://10times.com/building-construction\">Building &amp; Construction</a></td>\n",
      " Tradeshow Building & Construction\n"
     ]
    }
   ],
   "source": [
    "html_category = row0.select('td')[4]\n",
    "print(html_category)\n",
    "print(html_category.get_text())"
   ]
  },
  {
   "cell_type": "markdown",
   "metadata": {},
   "source": [
    "<h3>타입 정보"
   ]
  },
  {
   "cell_type": "code",
   "execution_count": 128,
   "metadata": {},
   "outputs": [
    {
     "name": "stdout",
     "output_type": "stream",
     "text": [
      "1\n",
      "Tradeshow\n"
     ]
    }
   ],
   "source": [
    "html_category_span = html_category.select('span')\n",
    "print(len(html_category_span))\n",
    "print(html_category_span[0].get_text())"
   ]
  },
  {
   "cell_type": "markdown",
   "metadata": {},
   "source": [
    "<h3>카테고리 정보"
   ]
  },
  {
   "cell_type": "code",
   "execution_count": 129,
   "metadata": {},
   "outputs": [
    {
     "name": "stdout",
     "output_type": "stream",
     "text": [
      "1\n",
      "Building & Construction\n"
     ]
    }
   ],
   "source": [
    "html_category_a = html_category.select('a')\n",
    "print(len(html_category_a))\n",
    "print(html_category_a[0].get_text())"
   ]
  },
  {
   "cell_type": "markdown",
   "metadata": {},
   "source": [
    "<H1> 정리해서 클래스로 "
   ]
  },
  {
   "cell_type": "code",
   "execution_count": 130,
   "metadata": {},
   "outputs": [],
   "source": [
    "class CEvent_Row:\n",
    "    listDate = []\n",
    "    listType = []\n",
    "    listCategory = []\n",
    "    def __init__(self, listTd):\n",
    "        strDate = listTd[0].get_text()\n",
    "        self.listDate = re.findall('(?P<date>\\w{3}, \\d{2})\\s?(?P<month>\\w{3})?\\s?(?P<year>\\d{4})?', strDate)\n",
    "        self.strTitle = listTd[1].get_text()\n",
    "        self.linkTitle = listTd[1].select('a')[0].get('href')\n",
    "        self.strPlace = listTd[2].get_text()\n",
    "        self.strTitle2 = listTd[3].get_text()\n",
    "        listHtmlType = listTd[4].select('span')\n",
    "        for itHtmlType in listHtmlType:\n",
    "            strType = itHtmlType.getText()\n",
    "            self.listType.append(strType)\n",
    "            \n",
    "        listHtmlCategory = listTd[4].select('a')\n",
    "        for itHtmlCategory in listHtmlCategory:\n",
    "            strCategory = itHtmlCategory.getText()\n",
    "            self.listCategory.append(strCategory)"
   ]
  },
  {
   "cell_type": "code",
   "execution_count": 131,
   "metadata": {},
   "outputs": [
    {
     "name": "stdout",
     "output_type": "stream",
     "text": [
      "[('Fri, 31', 'Jan', ''), ('Mon, 03', 'Feb', '2020')]\n",
      "[('Fri, 31', 'Jan', ''), ('Mon, 03', 'Feb', '2020')]\n",
      "[('Mon, 03', 'Feb', '2020')]\n",
      "[('Tue, 04', '', ''), ('Wed, 05', 'Feb', '2020')]\n",
      "[('Tue, 04', '', ''), ('Wed, 05', 'Feb', '2020')]\n",
      "[('Wed, 05', '', ''), ('Fri, 07', 'Feb', '2020')]\n",
      "[('Sat, 08', 'Feb', '2020')]\n",
      "[('Tue, 11', 'Feb', '2020')]\n",
      "[('Tue, 11', '', ''), ('Wed, 12', 'Feb', '2020')]\n",
      "[('Tue, 11', '', ''), ('Wed, 12', 'Feb', '2020')]\n",
      "[('Tue, 11', '', ''), ('Wed, 12', 'Feb', '2020')]\n",
      "[('Tue, 11', '', ''), ('Wed, 12', 'Feb', '2020')]\n",
      "[('Tue, 11', '', ''), ('Wed, 12', 'Feb', '2020')]\n",
      "[('Tue, 11', '', ''), ('Fri, 14', 'Feb', '2020')]\n",
      "[('Wed, 12', '', ''), ('Fri, 14', 'Feb', '2020')]\n",
      "[('Wed, 12', '', ''), ('Fri, 14', 'Feb', '2020')]\n",
      "[('Thu, 13', '', ''), ('Sun, 16', 'Feb', '2020')]\n",
      "[('Fri, 14', '', ''), ('Sun, 16', 'Feb', '2020')]\n",
      "[('Thu, 20', 'Feb', '2020')]\n",
      "[('Thu, 20', 'Feb', '2020')]\n",
      "[('Thu, 20', '', ''), ('Fri, 21', 'Feb', '2020')]\n",
      "[('Fri, 21', '', ''), ('Sat, 22', 'Feb', '2020')]\n",
      "[('Thu, 20', '', ''), ('Sun, 23', 'Feb', '2020')]\n",
      "[('Tue, 25', '', ''), ('Wed, 26', 'Feb', '2020')]\n",
      "[('Tue, 25', '', ''), ('Thu, 27', 'Feb', '2020')]\n",
      "[('Thu, 27', '', ''), ('Fri, 28', 'Feb', '2020')]\n",
      "[('Sun, 23', '', ''), ('Sat, 29', 'Feb', '2020')]\n",
      "[('Mon, 24', '', ''), ('Sat, 29', 'Feb', '2020')]\n",
      "[('Wed, 26', 'Feb', ''), ('Sun, 01', 'Mar', '2020')]\n",
      "[('Thu, 27', 'Feb', ''), ('Sun, 01', 'Mar', '2020')]\n",
      "[('Tue, 03', '', ''), ('Thu, 05', 'Mar', '2020')]\n",
      "[('Wed, 04', '', ''), ('Thu, 05', 'Mar', '2020')]\n",
      "[('Wed, 04', '', ''), ('Thu, 05', 'Mar', '2020')]\n",
      "[('Wed, 04', '', ''), ('Fri, 06', 'Mar', '2020')]\n",
      "[('Wed, 04', '', ''), ('Fri, 06', 'Mar', '2020')]\n",
      "[('Thu, 05', '', ''), ('Fri, 06', 'Mar', '2020')]\n",
      "[('Thu, 05', '', ''), ('Sun, 08', 'Mar', '2020')]\n",
      "[('Fri, 06', '', ''), ('Sun, 08', 'Mar', '2020')]\n",
      "[('Tue, 10', 'Mar', '2020')]\n",
      "[('Wed, 11', '', ''), ('Fri, 13', 'Mar', '2020')]\n",
      "[('Thu, 12', '', ''), ('Fri, 13', 'Mar', '2020')]\n",
      "[('Thu, 12', '', ''), ('Fri, 13', 'Mar', '2020')]\n",
      "[('Wed, 11', '', ''), ('Sat, 14', 'Mar', '2020')]\n",
      "[('Wed, 11', '', ''), ('Sun, 15', 'Mar', '2020')]\n",
      "[('Thu, 12', '', ''), ('Sun, 15', 'Mar', '2020')]\n",
      "[('Fri, 13', '', ''), ('Sun, 15', 'Mar', '2020')]\n",
      "[('Tue, 17', '', ''), ('Wed, 18', 'Mar', '2020')]\n",
      "[('Wed, 18', 'Mar', '2020')]\n",
      "[('Wed, 18', '', ''), ('Thu, 19', 'Mar', '2020')]\n",
      "[('Wed, 18', '', ''), ('Fri, 20', 'Mar', '2020')]\n",
      "[('Wed, 18', '', ''), ('Fri, 20', 'Mar', '2020')]\n",
      "[('Wed, 18', '', ''), ('Fri, 20', 'Mar', '2020')]\n",
      "[('Thu, 19', '', ''), ('Fri, 20', 'Mar', '2020')]\n",
      "[('Thu, 19', '', ''), ('Sat, 21', 'Mar', '2020')]\n",
      "[('Thu, 19', '', ''), ('Sat, 21', 'Mar', '2020')]\n",
      "[('Thu, 19', '', ''), ('Sun, 22', 'Mar', '2020')]\n",
      "[('Wed, 25', '', ''), ('Fri, 27', 'Mar', '2020')]\n",
      "[('Wed, 25', '', ''), ('Fri, 27', 'Mar', '2020')]\n",
      "[('Wed, 25', '', ''), ('Fri, 27', 'Mar', '2020')]\n",
      "[('Thu, 26', '', ''), ('Sat, 28', 'Mar', '2020')]\n",
      "[('Thu, 26', '', ''), ('Sat, 28', 'Mar', '2020')]\n",
      "[('Thu, 26', '', ''), ('Sun, 29', 'Mar', '2020')]\n",
      "[('Sat, 28', '', ''), ('Sun, 29', 'Mar', '2020')]\n",
      "[('Sat, 28', '', ''), ('Sun, 29', 'Mar', '2020')]\n",
      "[('Tue, 31', 'Mar', ''), ('Sat, 04', 'Apr', '2020')]\n",
      "[('Thu, 02', '', ''), ('Sat, 04', 'Apr', '2020')]\n",
      "[('Fri, 03', '', ''), ('Sun, 05', 'Apr', '2020')]\n",
      "[('Sat, 04', '', ''), ('Sun, 05', 'Apr', '2020')]\n",
      "[('Sat, 04', '', ''), ('Sun, 05', 'Apr', '2020')]\n",
      "[('Mon, 06', '', ''), ('Thu, 09', 'Apr', '2020')]\n",
      "[('Thu, 09', 'Apr', '2020')]\n",
      "[('Thu, 09', '', ''), ('Sat, 11', 'Apr', '2020')]\n",
      "[('Thu, 09', '', ''), ('Sun, 12', 'Apr', '2020')]\n",
      "[('Mon, 13', '', ''), ('Tue, 14', 'Apr', '2020')]\n",
      "[('Mon, 13', '', ''), ('Tue, 14', 'Apr', '2020')]\n",
      "[('Tue, 14', '', ''), ('Thu, 16', 'Apr', '2020')]\n",
      "[('Tue, 14', '', ''), ('Fri, 17', 'Apr', '2020')]\n",
      "[('Tue, 14', '', ''), ('Fri, 17', 'Apr', '2020')]\n",
      "[('Wed, 15', '', ''), ('Fri, 17', 'Apr', '2020')]\n",
      "[('Fri, 17', 'Apr', '2020')]\n",
      "[('Thu, 16', '', ''), ('Sat, 18', 'Apr', '2020')]\n",
      "[('Fri, 17', '', ''), ('Sat, 18', 'Apr', '2020')]\n",
      "[('Fri, 17', '', ''), ('Sun, 19', 'Apr', '2020')]\n",
      "[('Sat, 18', '', ''), ('Sun, 19', 'Apr', '2020')]\n",
      "[('Mon, 20', '', ''), ('Tue, 21', 'Apr', '2020')]\n",
      "[('Sun, 19', '', ''), ('Wed, 22', 'Apr', '2020')]\n",
      "[('Tue, 21', '', ''), ('Wed, 22', 'Apr', '2020')]\n",
      "[('Tue, 21', '', ''), ('Thu, 23', 'Apr', '2020')]\n",
      "[('Thu, 23', 'Apr', '2020')]\n",
      "[('Mon, 20', '', ''), ('Fri, 24', 'Apr', '2020')]\n",
      "[('Wed, 22', '', ''), ('Fri, 24', 'Apr', '2020')]\n",
      "[('Wed, 22', '', ''), ('Fri, 24', 'Apr', '2020')]\n",
      "[('Wed, 22', '', ''), ('Fri, 24', 'Apr', '2020')]\n",
      "[('Thu, 23', '', ''), ('Sat, 25', 'Apr', '2020')]\n",
      "[('Thu, 23', '', ''), ('Sat, 25', 'Apr', '2020')]\n",
      "[('Thu, 23', '', ''), ('Sat, 25', 'Apr', '2020')]\n",
      "[('Thu, 23', '', ''), ('Sun, 26', 'Apr', '2020')]\n",
      "[('Sat, 25', '', ''), ('Tue, 28', 'Apr', '2020')]\n",
      "[('Sat, 25', '', ''), ('Tue, 28', 'Apr', '2020')]\n",
      "[('Mon, 27', '', ''), ('Tue, 28', 'Apr', '2020')]\n",
      "[('Mon, 27', '', ''), ('Tue, 28', 'Apr', '2020')]\n",
      "[('Mon, 27', '', ''), ('Wed, 29', 'Apr', '2020')]\n",
      "[('Wed, 06', '', ''), ('Fri, 08', 'May', '2020')]\n",
      "[('Tue, 05', '', ''), ('Sat, 09', 'May', '2020')]\n",
      "[('Tue, 05', '', ''), ('Sat, 09', 'May', '2020')]\n",
      "[('Thu, 07', '', ''), ('Sat, 09', 'May', '2020')]\n",
      "[('Fri, 08', '', ''), ('Sun, 10', 'May', '2020')]\n",
      "[('Fri, 08', '', ''), ('Sun, 10', 'May', '2020')]\n",
      "[('Sat, 25', 'Apr', ''), ('Mon, 11', 'May', '2020')]\n",
      "[('Wed, 13', '', ''), ('Thu, 14', 'May', '2020')]\n",
      "[('Wed, 13', '', ''), ('Thu, 14', 'May', '2020')]\n",
      "[('Mon, 11', '', ''), ('Fri, 15', 'May', '2020')]\n",
      "[('Wed, 13', '', ''), ('Fri, 15', 'May', '2020')]\n",
      "[('Thu, 14', '', ''), ('Sat, 16', 'May', '2020')]\n",
      "[('Mon, 18', '', ''), ('Tue, 19', 'May', '2020')]\n",
      "[('Tue, 19', '', ''), ('Wed, 20', 'May', '2020')]\n",
      "[('Tue, 19', '', ''), ('Thu, 21', 'May', '2020')]\n",
      "[('Tue, 19', '', ''), ('Thu, 21', 'May', '2020')]\n",
      "[('Wed, 20', '', ''), ('Thu, 21', 'May', '2020')]\n",
      "[('Tue, 19', '', ''), ('Fri, 22', 'May', '2020')]\n",
      "[('Tue, 19', '', ''), ('Fri, 22', 'May', '2020')]\n",
      "[('Tue, 19', '', ''), ('Fri, 22', 'May', '2020')]\n",
      "[('Tue, 19', '', ''), ('Fri, 22', 'May', '2020')]\n",
      "[('Wed, 20', '', ''), ('Fri, 22', 'May', '2020')]\n",
      "[('Wed, 20', '', ''), ('Fri, 22', 'May', '2020')]\n",
      "[('Thu, 21', '', ''), ('Fri, 22', 'May', '2020')]\n",
      "[('Fri, 22', '', ''), ('Sat, 23', 'May', '2020')]\n",
      "[('Thu, 21', '', ''), ('Sun, 24', 'May', '2020')]\n",
      "[('Thu, 21', '', ''), ('Sun, 24', 'May', '2020')]\n",
      "[('Fri, 22', '', ''), ('Sun, 24', 'May', '2020')]\n",
      "[('Sat, 23', '', ''), ('Sun, 24', 'May', '2020')]\n",
      "[('Sat, 23', '', ''), ('Sun, 24', 'May', '2020')]\n",
      "[('Mon, 25', '', ''), ('Tue, 26', 'May', '2020')]\n",
      "[('Mon, 25', '', ''), ('Tue, 26', 'May', '2020')]\n",
      "[('Mon, 25', '', ''), ('Tue, 26', 'May', '2020')]\n",
      "[('Mon, 25', '', ''), ('Tue, 26', 'May', '2020')]\n",
      "[('Sun, 24', '', ''), ('Thu, 28', 'May', '2020')]\n",
      "[('Sat, 23', '', ''), ('Fri, 29', 'May', '2020')]\n",
      "[('Mon, 25', '', ''), ('Fri, 29', 'May', '2020')]\n",
      "[('Wed, 27', '', ''), ('Fri, 29', 'May', '2020')]\n",
      "[('Wed, 27', '', ''), ('Fri, 29', 'May', '2020')]\n",
      "[('Wed, 27', '', ''), ('Fri, 29', 'May', '2020')]\n",
      "[('Wed, 27', '', ''), ('Fri, 29', 'May', '2020')]\n",
      "[('Sat, 30', '', ''), ('Sun, 31', 'May', '2020')]\n",
      "[('Mon, 01', 'Jun', '2020')]\n",
      "[('Tue, 02', '', ''), ('Fri, 05', 'Jun', '2020')]\n",
      "[('Tue, 02', '', ''), ('Fri, 05', 'Jun', '2020')]\n",
      "[('Wed, 03', '', ''), ('Fri, 05', 'Jun', '2020')]\n",
      "[('Wed, 03', '', ''), ('Fri, 05', 'Jun', '2020')]\n",
      "[('Fri, 05', '', ''), ('Sat, 06', 'Jun', '2020')]\n",
      "[('Fri, 05', '', ''), ('Sun, 07', 'Jun', '2020')]\n",
      "[('Mon, 08', '', ''), ('Wed, 10', 'Jun', '2020')]\n",
      "[('Mon, 08', '', ''), ('Wed, 10', 'Jun', '2020')]\n",
      "[('Mon, 08', '', ''), ('Fri, 12', 'Jun', '2020')]\n",
      "[('Mon, 08', '', ''), ('Fri, 12', 'Jun', '2020')]\n",
      "[('Mon, 08', '', ''), ('Fri, 12', 'Jun', '2020')]\n",
      "[('Thu, 11', '', ''), ('Fri, 12', 'Jun', '2020')]\n",
      "[('Fri, 12', '', ''), ('Sat, 13', 'Jun', '2020')]\n",
      "[('Thu, 11', '', ''), ('Sun, 14', 'Jun', '2020')]\n",
      "[('Fri, 12', '', ''), ('Sun, 14', 'Jun', '2020')]\n",
      "[('Fri, 12', '', ''), ('Sun, 14', 'Jun', '2020')]\n",
      "[('Mon, 15', '', ''), ('Tue, 16', 'Jun', '2020')]\n",
      "[('Mon, 15', '', ''), ('Tue, 16', 'Jun', '2020')]\n",
      "[('Sun, 14', '', ''), ('Fri, 19', 'Jun', '2020')]\n",
      "[('Wed, 17', '', ''), ('Fri, 19', 'Jun', '2020')]\n",
      "[('Wed, 17', '', ''), ('Fri, 19', 'Jun', '2020')]\n",
      "[('Wed, 17', '', ''), ('Fri, 19', 'Jun', '2020')]\n",
      "[('Wed, 17', '', ''), ('Fri, 19', 'Jun', '2020')]\n",
      "[('Wed, 17', '', ''), ('Fri, 19', 'Jun', '2020')]\n",
      "[('Thu, 18', '', ''), ('Fri, 19', 'Jun', '2020')]\n",
      "[('Wed, 17', '', ''), ('Sat, 20', 'Jun', '2020')]\n",
      "[('Tue, 23', 'Jun', '2020')]\n",
      "[('Tue, 23', '', ''), ('Wed, 24', 'Jun', '2020')]\n",
      "[('Sun, 21', '', ''), ('Fri, 26', 'Jun', '2020')]\n",
      "[('Wed, 24', '', ''), ('Fri, 26', 'Jun', '2020')]\n",
      "[('Wed, 24', '', ''), ('Fri, 26', 'Jun', '2020')]\n",
      "[('Wed, 24', '', ''), ('Fri, 26', 'Jun', '2020')]\n",
      "[('Thu, 25', '', ''), ('Sat, 27', 'Jun', '2020')]\n",
      "[('Thu, 25', '', ''), ('Sat, 27', 'Jun', '2020')]\n",
      "[('Wed, 24', '', ''), ('Sun, 28', 'Jun', '2020')]\n",
      "[('Fri, 26', '', ''), ('Sun, 28', 'Jun', '2020')]\n",
      "[('Sat, 27', '', ''), ('Mon, 29', 'Jun', '2020')]\n",
      "[('Wed, 01', '', ''), ('Fri, 03', 'Jul', '2020')]\n",
      "[('Wed, 01', '', ''), ('Fri, 03', 'Jul', '2020')]\n",
      "[('Wed, 01', '', ''), ('Sat, 04', 'Jul', '2020')]\n",
      "[('Mon, 06', '', ''), ('Thu, 09', 'Jul', '2020')]\n",
      "[('Sun, 05', '', ''), ('Fri, 10', 'Jul', '2020')]\n",
      "[('Thu, 09', '', ''), ('Sun, 12', 'Jul', '2020')]\n",
      "[('Thu, 09', '', ''), ('Sun, 12', 'Jul', '2020')]\n",
      "[('Sun, 12', '', ''), ('Wed, 15', 'Jul', '2020')]\n",
      "[('Wed, 15', '', ''), ('Thu, 16', 'Jul', '2020')]\n",
      "[('Wed, 15', '', ''), ('Thu, 16', 'Jul', '2020')]\n",
      "[('Mon, 13', '', ''), ('Fri, 17', 'Jul', '2020')]\n",
      "[('Wed, 15', '', ''), ('Sun, 19', 'Jul', '2020')]\n",
      "[('Fri, 17', '', ''), ('Sun, 19', 'Jul', '2020')]\n",
      "[('Fri, 17', '', ''), ('Sun, 19', 'Jul', '2020')]\n",
      "[('Fri, 17', '', ''), ('Sun, 19', 'Jul', '2020')]\n",
      "[('Sat, 18', '', ''), ('Sun, 19', 'Jul', '2020')]\n",
      "[('Mon, 20', '', ''), ('Wed, 22', 'Jul', '2020')]\n",
      "[('Mon, 20', '', ''), ('Wed, 22', 'Jul', '2020')]\n",
      "[('Mon, 20', '', ''), ('Wed, 22', 'Jul', '2020')]\n",
      "[('Mon, 20', '', ''), ('Wed, 22', 'Jul', '2020')]\n",
      "[('Mon, 20', '', ''), ('Fri, 24', 'Jul', '2020')]\n",
      "[('Thu, 23', '', ''), ('Fri, 24', 'Jul', '2020')]\n",
      "[('Thu, 23', '', ''), ('Sat, 25', 'Jul', '2020')]\n",
      "[('Thu, 30', 'Jul', ''), ('Sat, 01', 'Aug', '2020')]\n",
      "[('Thu, 06', '', ''), ('Sat, 08', 'Aug', '2020')]\n",
      "[('Thu, 06', '', ''), ('Sat, 08', 'Aug', '2020')]\n",
      "[('Thu, 06', '', ''), ('Sat, 08', 'Aug', '2020')]\n",
      "[('Thu, 13', '', ''), ('Fri, 14', 'Aug', '2020')]\n",
      "[('Thu, 13', '', ''), ('Fri, 14', 'Aug', '2020')]\n",
      "[('Mon, 17', '', ''), ('Wed, 19', 'Aug', '2020')]\n",
      "[('Mon, 17', '', ''), ('Wed, 19', 'Aug', '2020')]\n",
      "[('Tue, 18', '', ''), ('Wed, 19', 'Aug', '2020')]\n",
      "[('Thu, 30', 'Jul', ''), ('Thu, 20', 'Aug', '2020')]\n",
      "[('Sun, 16', '', ''), ('Fri, 21', 'Aug', '2020')]\n",
      "[('Mon, 17', '', ''), ('Fri, 21', 'Aug', '2020')]\n",
      "[('Wed, 19', '', ''), ('Fri, 21', 'Aug', '2020')]\n",
      "[('Sun, 23', '', ''), ('Wed, 26', 'Aug', '2020')]\n",
      "[('Wed, 26', '', ''), ('Thu, 27', 'Aug', '2020')]\n",
      "[('Wed, 26', '', ''), ('Thu, 27', 'Aug', '2020')]\n",
      "[('Wed, 26', '', ''), ('Thu, 27', 'Aug', '2020')]\n",
      "[('Tue, 25', '', ''), ('Fri, 28', 'Aug', '2020')]\n",
      "[('Wed, 26', '', ''), ('Fri, 28', 'Aug', '2020')]\n",
      "[('Wed, 26', '', ''), ('Fri, 28', 'Aug', '2020')]\n",
      "[('Wed, 26', '', ''), ('Fri, 28', 'Aug', '2020')]\n",
      "[('Thu, 27', '', ''), ('Sun, 30', 'Aug', '2020')]\n",
      "[('Sun, 30', 'Aug', ''), ('Wed, 02', 'Sep', '2020')]\n",
      "[('Wed, 02', 'Sep', '2020')]\n",
      "[('Fri, 04', 'Sep', '2020')]\n",
      "[('Wed, 02', '', ''), ('Sat, 05', 'Sep', '2020')]\n",
      "[('Fri, 04', '', ''), ('Sat, 05', 'Sep', '2020')]\n",
      "[('Fri, 04', '', ''), ('Sun, 06', 'Sep', '2020')]\n",
      "[('Mon, 07', '', ''), ('Wed, 09', 'Sep', '2020')]\n",
      "[('Wed, 09', '', ''), ('Sat, 12', 'Sep', '2020')]\n",
      "[('Sat, 12', '', ''), ('Tue, 15', 'Sep', '2020')]\n",
      "[('Mon, 14', '', ''), ('Tue, 15', 'Sep', '2020')]\n",
      "[('Sat, 12', '', ''), ('Wed, 16', 'Sep', '2020')]\n",
      "[('Wed, 16', '', ''), ('Fri, 18', 'Sep', '2020')]\n",
      "[('Fri, 18', 'Sep', '2020')]\n",
      "[('Sun, 20', '', ''), ('Mon, 21', 'Sep', '2020')]\n",
      "[('Tue, 22', '', ''), ('Thu, 24', 'Sep', '2020')]\n",
      "[('Tue, 22', '', ''), ('Thu, 24', 'Sep', '2020')]\n",
      "[('Wed, 23', '', ''), ('Fri, 25', 'Sep', '2020')]\n",
      "[('Wed, 23', '', ''), ('Fri, 25', 'Sep', '2020')]\n",
      "[('Wed, 23', '', ''), ('Fri, 25', 'Sep', '2020')]\n",
      "[('Wed, 23', '', ''), ('Fri, 25', 'Sep', '2020')]\n",
      "[('Tue, 06', '', ''), ('Thu, 08', 'Oct', '2020')]\n",
      "[('Mon, 05', '', ''), ('Fri, 09', 'Oct', '2020')]\n",
      "[('Fri, 09', '', ''), ('Sat, 10', 'Oct', '2020')]\n",
      "[('Fri, 09', '', ''), ('Sat, 10', 'Oct', '2020')]\n",
      "[('Fri, 09', '', ''), ('Sat, 10', 'Oct', '2020')]\n",
      "[('Thu, 15', 'Oct', '2020')]\n",
      "[('Wed, 14', '', ''), ('Sat, 17', 'Oct', '2020')]\n",
      "[('Thu, 15', '', ''), ('Sat, 17', 'Oct', '2020')]\n",
      "[('Thu, 15', '', ''), ('Sat, 17', 'Oct', '2020')]\n",
      "[('Fri, 16', '', ''), ('Sat, 17', 'Oct', '2020')]\n",
      "[('Sat, 17', '', ''), ('Sun, 18', 'Oct', '2020')]\n",
      "[('Tue, 20', '', ''), ('Thu, 22', 'Oct', '2020')]\n",
      "[('Wed, 21', '', ''), ('Fri, 23', 'Oct', '2020')]\n",
      "[('Wed, 21', '', ''), ('Fri, 23', 'Oct', '2020')]\n",
      "[('Wed, 21', '', ''), ('Fri, 23', 'Oct', '2020')]\n",
      "[('Wed, 21', '', ''), ('Fri, 23', 'Oct', '2020')]\n",
      "[('Thu, 22', '', ''), ('Sun, 25', 'Oct', '2020')]\n",
      "[('Fri, 23', '', ''), ('Sun, 25', 'Oct', '2020')]\n",
      "[('Sat, 24', '', ''), ('Mon, 26', 'Oct', '2020')]\n",
      "[('Sun, 25', '', ''), ('Wed, 28', 'Oct', '2020')]\n",
      "[('Sun, 25', '', ''), ('Wed, 28', 'Oct', '2020')]\n",
      "[('Sun, 25', '', ''), ('Wed, 28', 'Oct', '2020')]\n",
      "[('Sun, 25', '', ''), ('Thu, 29', 'Oct', '2020')]\n",
      "[('Tue, 27', '', ''), ('Fri, 30', 'Oct', '2020')]\n",
      "[('Wed, 28', '', ''), ('Sat, 31', 'Oct', '2020')]\n",
      "[('Wed, 28', '', ''), ('Sat, 31', 'Oct', '2020')]\n",
      "[('Fri, 30', '', ''), ('Sat, 31', 'Oct', '2020')]\n",
      "[('Sat, 31', 'Oct', ''), ('Sun, 01', 'Nov', '2020')]\n",
      "[('Wed, 04', '', ''), ('Thu, 05', 'Nov', '2020')]\n",
      "[('Wed, 04', '', ''), ('Sat, 07', 'Nov', '2020')]\n",
      "[('Mon, 09', '', ''), ('Tue, 10', 'Nov', '2020')]\n",
      "[('Wed, 11', '', ''), ('Fri, 13', 'Nov', '2020')]\n",
      "[('Wed, 11', '', ''), ('Fri, 13', 'Nov', '2020')]\n",
      "[('Thu, 12', '', ''), ('Fri, 13', 'Nov', '2020')]\n",
      "[('Fri, 13', '', ''), ('Sun, 15', 'Nov', '2020')]\n",
      "[('Wed, 18', '', ''), ('Fri, 20', 'Nov', '2020')]\n",
      "[('Mon, 23', '', ''), ('Tue, 24', 'Nov', '2020')]\n",
      "[('Wed, 25', '', ''), ('Thu, 26', 'Nov', '2020')]\n",
      "[('Wed, 25', '', ''), ('Sat, 28', 'Nov', '2020')]\n",
      "[('Fri, 27', '', ''), ('Sat, 28', 'Nov', '2020')]\n",
      "[('Fri, 27', '', ''), ('Sun, 29', 'Nov', '2020')]\n",
      "[('Wed, 02', '', ''), ('Fri, 04', 'Dec', '2020')]\n",
      "[('Sun, 06', '', ''), ('Tue, 08', 'Dec', '2020')]\n",
      "[('Mon, 07', '', ''), ('Tue, 08', 'Dec', '2020')]\n",
      "[('Wed, 09', '', ''), ('Thu, 10', 'Dec', '2020')]\n",
      "[('Fri, 11', 'Dec', '2020')]\n",
      "[('Mon, 14', '', ''), ('Wed, 16', 'Dec', '2020')]\n",
      "[('Thu, 17', '', ''), ('Fri, 18', 'Dec', '2020')]\n",
      "[('Thu, 17', '', ''), ('Sun, 20', 'Dec', '2020')]\n"
     ]
    }
   ],
   "source": [
    "iIndex = 0\n",
    "for itParagraph in paragraph_data:\n",
    "    listTD = itParagraph.select('td')\n",
    "    \n",
    "    # 6이 아닌 경우 중간광고\n",
    "    if len(listTD) != 6:\n",
    "        continue\n",
    "        \n",
    "    row = CEvent_Row(listTD)\n",
    "#     print(row.listDate, row.strTitle, row.linkTitle, row.strPlace, row.strTitle2, row.listType, row.listCategory)\n",
    "    print(row.listDate)\n",
    "    iIndex+=1"
   ]
  },
  {
   "cell_type": "markdown",
   "metadata": {},
   "source": [
    "날짜 적혀있는 패턴이 다양\n",
    "\n",
    "1. 하루인 경우 : 그날만 써있음\n",
    "2. 시작하는 날과 끝나는 날의 달이 같은 경우 : 시작날짜에 연도, 월 이 없음\n",
    "3. 시작하는 날과 끝나는 날의 달이 다르고 년이 같은 경우 : 시작날짜에 연도가 없음"
   ]
  },
  {
   "cell_type": "markdown",
   "metadata": {},
   "source": [
    "<h1>클래스 수정 (날짜 파싱 함수 추가)"
   ]
  },
  {
   "cell_type": "code",
   "execution_count": 132,
   "metadata": {},
   "outputs": [],
   "source": [
    "class CEvent_Row:\n",
    "    listStartEnd = []\n",
    "    listType = []\n",
    "    listCategory = []\n",
    "    def __init__(self, listTd):\n",
    "        strDate = listTd[0].get_text()\n",
    "        listDate = re.findall('(?P<date>\\w{3}, \\d{2})\\s?(?P<month>\\w{3})?\\s?(?P<year>\\d{4})?', strDate)\n",
    "        self.listStartEnd = DateParse(listDate)\n",
    "        self.strTitle = listTd[1].get_text()\n",
    "        self.linkTitle = listTd[1].select('a')[0].get('href')\n",
    "        self.strPlace = listTd[2].get_text()\n",
    "        self.strTitle2 = listTd[3].get_text()\n",
    "        listHtmlType = listTd[4].select('span')\n",
    "        for itHtmlType in listHtmlType:\n",
    "            strType = itHtmlType.getText()\n",
    "            self.listType.append(strType)\n",
    "            \n",
    "        listHtmlCategory = listTd[4].select('a')\n",
    "        for itHtmlCategory in listHtmlCategory:\n",
    "            strCategory = itHtmlCategory.getText()\n",
    "            self.listCategory.append(strCategory)\n",
    "    \n",
    "    def DateParse(listDate): \n",
    "        start_day = listDate[0][0]\n",
    "        start_month = listDate[0][1]\n",
    "        start_year = listDate[0][2]\n",
    "\n",
    "        if len(listDate) == 1: #only one day\n",
    "            strStartDate = start_day + ' ' + start_month + ' ' + start_year\n",
    "            strEndDate = strStartDate\n",
    "\n",
    "        elif len(listDate) == 2: #more then two days\n",
    "            end_day = listDate[1][0]\n",
    "            end_month = listDate[1][1]\n",
    "            end_year = listDate[1][2]\n",
    "\n",
    "            if listDate[0][1] == '':\n",
    "                start_month = end_month\n",
    "            if listDate[0][2] == '':\n",
    "                start_year = end_year\n",
    "\n",
    "            strStartDate = start_day + ' ' + start_month + ' ' + start_year\n",
    "            strEndDate = end_day + ' ' + end_month + ' ' + end_year\n",
    "\n",
    "        listReturn = []\n",
    "        listReturn.append(strStartDate)\n",
    "        listReturn.append(strEndDate)\n",
    "        return listReturn"
   ]
  },
  {
   "cell_type": "markdown",
   "metadata": {},
   "source": [
    "<h1>DataFrame에 넣기"
   ]
  },
  {
   "cell_type": "code",
   "execution_count": 133,
   "metadata": {},
   "outputs": [],
   "source": [
    "from pandas import DataFrame"
   ]
  },
  {
   "cell_type": "code",
   "execution_count": 134,
   "metadata": {},
   "outputs": [],
   "source": [
    "df = DataFrame(columns=('title','title_link', 'start_date', 'end_date','type','category','place','title2'))"
   ]
  },
  {
   "cell_type": "code",
   "execution_count": 135,
   "metadata": {},
   "outputs": [],
   "source": [
    "iIndex = 0\n",
    "for itParagraph in paragraph_data:\n",
    "    listTd = itParagraph.select('td')\n",
    "    if len(listTd) != 6:\n",
    "        continue\n",
    "    \n",
    "    row = CEvent_Row(listTd)\n",
    "    \n",
    "    df.at[iIndex, 'title'] = row.strTitle\n",
    "    df.at[iIndex, 'title_link'] = row.linkTitle\n",
    "    df.at[iIndex, 'start_date'] = row.listStartEnd[0]\n",
    "    df.at[iIndex, 'end_date'] = row.listStartEnd[1]\n",
    "    df.at[iIndex, 'place'] = row.strPlace\n",
    "    df.at[iIndex, 'title2'] = row.strTitle2\n",
    "    df.at[iIndex, 'type'] = row.listType[0]\n",
    "    df.at[iIndex, 'category'] = row.listCategory\n",
    "    iIndex += 1"
   ]
  },
  {
   "cell_type": "code",
   "execution_count": 136,
   "metadata": {},
   "outputs": [
    {
     "data": {
      "text/html": [
       "<div>\n",
       "<style scoped>\n",
       "    .dataframe tbody tr th:only-of-type {\n",
       "        vertical-align: middle;\n",
       "    }\n",
       "\n",
       "    .dataframe tbody tr th {\n",
       "        vertical-align: top;\n",
       "    }\n",
       "\n",
       "    .dataframe thead th {\n",
       "        text-align: right;\n",
       "    }\n",
       "</style>\n",
       "<table border=\"1\" class=\"dataframe\">\n",
       "  <thead>\n",
       "    <tr style=\"text-align: right;\">\n",
       "      <th></th>\n",
       "      <th>title</th>\n",
       "      <th>title_link</th>\n",
       "      <th>start_date</th>\n",
       "      <th>end_date</th>\n",
       "      <th>type</th>\n",
       "      <th>category</th>\n",
       "      <th>place</th>\n",
       "      <th>title2</th>\n",
       "    </tr>\n",
       "  </thead>\n",
       "  <tbody>\n",
       "    <tr>\n",
       "      <td>0</td>\n",
       "      <td>MBC Construction Fair</td>\n",
       "      <td>https://10times.com/mbc-construction-fair</td>\n",
       "      <td>Fri, 31 Jan 2020</td>\n",
       "      <td>Mon, 03 Feb 2020</td>\n",
       "      <td>Tradeshow</td>\n",
       "      <td>[Building &amp; Construction, Furnishings &amp; Decor,...</td>\n",
       "      <td>SETEC, Seoul</td>\n",
       "      <td></td>\n",
       "    </tr>\n",
       "    <tr>\n",
       "      <td>1</td>\n",
       "      <td>Dong a Home &amp; Living Fair</td>\n",
       "      <td>https://10times.com/home-living-fair</td>\n",
       "      <td>Fri, 31 Jan 2020</td>\n",
       "      <td>Mon, 03 Feb 2020</td>\n",
       "      <td>Tradeshow</td>\n",
       "      <td>[Building &amp; Construction, Furnishings &amp; Decor,...</td>\n",
       "      <td>iti the center (AT Center), Seoul</td>\n",
       "      <td>Dong a Home &amp; Living Fair will provide correct...</td>\n",
       "    </tr>\n",
       "    <tr>\n",
       "      <td>2</td>\n",
       "      <td>International Conference on Business Managemen...</td>\n",
       "      <td>https://10times.com/icbmss-seoul</td>\n",
       "      <td>Mon, 03 Feb 2020</td>\n",
       "      <td>Mon, 03 Feb 2020</td>\n",
       "      <td>Tradeshow</td>\n",
       "      <td>[Building &amp; Construction, Furnishings &amp; Decor,...</td>\n",
       "      <td>Hotel Skypark Kingstown Dongdaemun, Seoul</td>\n",
       "      <td>The key motive of ICBMSS is to provide a world...</td>\n",
       "    </tr>\n",
       "    <tr>\n",
       "      <td>3</td>\n",
       "      <td>International Conference on Economics, Managem...</td>\n",
       "      <td>https://10times.com/icemss-seoul</td>\n",
       "      <td>Tue, 04 Feb 2020</td>\n",
       "      <td>Wed, 05 Feb 2020</td>\n",
       "      <td>Tradeshow</td>\n",
       "      <td>[Building &amp; Construction, Furnishings &amp; Decor,...</td>\n",
       "      <td>SOTETSU HOTELS THE SPLAISIR SEOUL MYEONG-DONG...</td>\n",
       "      <td>International Conference on Economics, Managem...</td>\n",
       "    </tr>\n",
       "    <tr>\n",
       "      <td>4</td>\n",
       "      <td>International Conference on Chemical and Bioch...</td>\n",
       "      <td>https://10times.com/icc-be</td>\n",
       "      <td>Tue, 04 Feb 2020</td>\n",
       "      <td>Wed, 05 Feb 2020</td>\n",
       "      <td>Tradeshow</td>\n",
       "      <td>[Building &amp; Construction, Furnishings &amp; Decor,...</td>\n",
       "      <td>SOTETSU HOTELS THE SPLAISIR SEOUL DONGDAEMUN,...</td>\n",
       "      <td>International Conference on Chemical and Bioch...</td>\n",
       "    </tr>\n",
       "    <tr>\n",
       "      <td>...</td>\n",
       "      <td>...</td>\n",
       "      <td>...</td>\n",
       "      <td>...</td>\n",
       "      <td>...</td>\n",
       "      <td>...</td>\n",
       "      <td>...</td>\n",
       "      <td>...</td>\n",
       "      <td>...</td>\n",
       "    </tr>\n",
       "    <tr>\n",
       "      <td>291</td>\n",
       "      <td>Scaffolding Learning through Material Play (So...</td>\n",
       "      <td>https://10times.com/material-play-seoul</td>\n",
       "      <td>Wed, 09 Dec 2020</td>\n",
       "      <td>Thu, 10 Dec 2020</td>\n",
       "      <td>Tradeshow</td>\n",
       "      <td>[Building &amp; Construction, Furnishings &amp; Decor,...</td>\n",
       "      <td>Seoul</td>\n",
       "      <td>Professional Development for Teachers</td>\n",
       "    </tr>\n",
       "    <tr>\n",
       "      <td>292</td>\n",
       "      <td>ICA Congress</td>\n",
       "      <td>https://10times.com/ica-congress-seoul</td>\n",
       "      <td>Fri, 11 Dec 2020</td>\n",
       "      <td>Fri, 11 Dec 2020</td>\n",
       "      <td>Tradeshow</td>\n",
       "      <td>[Building &amp; Construction, Furnishings &amp; Decor,...</td>\n",
       "      <td>COEX Mall, Seoul</td>\n",
       "      <td>ICA Congress works with global and regional go...</td>\n",
       "    </tr>\n",
       "    <tr>\n",
       "      <td>293</td>\n",
       "      <td>Reggio Inspired Pedagogy (South Korea)20201214...</td>\n",
       "      <td>https://10times.com/reggio-inspired-pedagogy-s...</td>\n",
       "      <td>Mon, 14 Dec 2020</td>\n",
       "      <td>Wed, 16 Dec 2020</td>\n",
       "      <td>Tradeshow</td>\n",
       "      <td>[Building &amp; Construction, Furnishings &amp; Decor,...</td>\n",
       "      <td>Seoul</td>\n",
       "      <td>Professional Development for Teachers</td>\n",
       "    </tr>\n",
       "    <tr>\n",
       "      <td>294</td>\n",
       "      <td>Making Learning Visible (South Korea) (MLV)202...</td>\n",
       "      <td>https://10times.com/making-learning-visible-seoul</td>\n",
       "      <td>Thu, 17 Dec 2020</td>\n",
       "      <td>Fri, 18 Dec 2020</td>\n",
       "      <td>Tradeshow</td>\n",
       "      <td>[Building &amp; Construction, Furnishings &amp; Decor,...</td>\n",
       "      <td>Seoul</td>\n",
       "      <td>Professional Development for Teachers</td>\n",
       "    </tr>\n",
       "    <tr>\n",
       "      <td>295</td>\n",
       "      <td>Home Table Deco Fair Seoul</td>\n",
       "      <td>https://10times.com/table-deco-fair</td>\n",
       "      <td>Thu, 17 Dec 2020</td>\n",
       "      <td>Sun, 20 Dec 2020</td>\n",
       "      <td>Tradeshow</td>\n",
       "      <td>[Building &amp; Construction, Furnishings &amp; Decor,...</td>\n",
       "      <td>COEX Convention Center, Seoul</td>\n",
       "      <td>Trendy home styling ideas for your dream home</td>\n",
       "    </tr>\n",
       "  </tbody>\n",
       "</table>\n",
       "<p>296 rows × 8 columns</p>\n",
       "</div>"
      ],
      "text/plain": [
       "                                                 title  \\\n",
       "0                                MBC Construction Fair   \n",
       "1                            Dong a Home & Living Fair   \n",
       "2    International Conference on Business Managemen...   \n",
       "3    International Conference on Economics, Managem...   \n",
       "4    International Conference on Chemical and Bioch...   \n",
       "..                                                 ...   \n",
       "291  Scaffolding Learning through Material Play (So...   \n",
       "292                                       ICA Congress   \n",
       "293  Reggio Inspired Pedagogy (South Korea)20201214...   \n",
       "294  Making Learning Visible (South Korea) (MLV)202...   \n",
       "295                         Home Table Deco Fair Seoul   \n",
       "\n",
       "                                            title_link        start_date  \\\n",
       "0            https://10times.com/mbc-construction-fair  Fri, 31 Jan 2020   \n",
       "1                 https://10times.com/home-living-fair  Fri, 31 Jan 2020   \n",
       "2                     https://10times.com/icbmss-seoul  Mon, 03 Feb 2020   \n",
       "3                     https://10times.com/icemss-seoul  Tue, 04 Feb 2020   \n",
       "4                           https://10times.com/icc-be  Tue, 04 Feb 2020   \n",
       "..                                                 ...               ...   \n",
       "291            https://10times.com/material-play-seoul  Wed, 09 Dec 2020   \n",
       "292             https://10times.com/ica-congress-seoul  Fri, 11 Dec 2020   \n",
       "293  https://10times.com/reggio-inspired-pedagogy-s...  Mon, 14 Dec 2020   \n",
       "294  https://10times.com/making-learning-visible-seoul  Thu, 17 Dec 2020   \n",
       "295                https://10times.com/table-deco-fair  Thu, 17 Dec 2020   \n",
       "\n",
       "             end_date       type  \\\n",
       "0    Mon, 03 Feb 2020  Tradeshow   \n",
       "1    Mon, 03 Feb 2020  Tradeshow   \n",
       "2    Mon, 03 Feb 2020  Tradeshow   \n",
       "3    Wed, 05 Feb 2020  Tradeshow   \n",
       "4    Wed, 05 Feb 2020  Tradeshow   \n",
       "..                ...        ...   \n",
       "291  Thu, 10 Dec 2020  Tradeshow   \n",
       "292  Fri, 11 Dec 2020  Tradeshow   \n",
       "293  Wed, 16 Dec 2020  Tradeshow   \n",
       "294  Fri, 18 Dec 2020  Tradeshow   \n",
       "295  Sun, 20 Dec 2020  Tradeshow   \n",
       "\n",
       "                                              category  \\\n",
       "0    [Building & Construction, Furnishings & Decor,...   \n",
       "1    [Building & Construction, Furnishings & Decor,...   \n",
       "2    [Building & Construction, Furnishings & Decor,...   \n",
       "3    [Building & Construction, Furnishings & Decor,...   \n",
       "4    [Building & Construction, Furnishings & Decor,...   \n",
       "..                                                 ...   \n",
       "291  [Building & Construction, Furnishings & Decor,...   \n",
       "292  [Building & Construction, Furnishings & Decor,...   \n",
       "293  [Building & Construction, Furnishings & Decor,...   \n",
       "294  [Building & Construction, Furnishings & Decor,...   \n",
       "295  [Building & Construction, Furnishings & Decor,...   \n",
       "\n",
       "                                                 place  \\\n",
       "0                                         SETEC, Seoul   \n",
       "1                    iti the center (AT Center), Seoul   \n",
       "2            Hotel Skypark Kingstown Dongdaemun, Seoul   \n",
       "3     SOTETSU HOTELS THE SPLAISIR SEOUL MYEONG-DONG...   \n",
       "4     SOTETSU HOTELS THE SPLAISIR SEOUL DONGDAEMUN,...   \n",
       "..                                                 ...   \n",
       "291                                              Seoul   \n",
       "292                                   COEX Mall, Seoul   \n",
       "293                                              Seoul   \n",
       "294                                              Seoul   \n",
       "295                      COEX Convention Center, Seoul   \n",
       "\n",
       "                                                title2  \n",
       "0                                                       \n",
       "1    Dong a Home & Living Fair will provide correct...  \n",
       "2    The key motive of ICBMSS is to provide a world...  \n",
       "3    International Conference on Economics, Managem...  \n",
       "4    International Conference on Chemical and Bioch...  \n",
       "..                                                 ...  \n",
       "291              Professional Development for Teachers  \n",
       "292  ICA Congress works with global and regional go...  \n",
       "293              Professional Development for Teachers  \n",
       "294              Professional Development for Teachers  \n",
       "295      Trendy home styling ideas for your dream home  \n",
       "\n",
       "[296 rows x 8 columns]"
      ]
     },
     "execution_count": 136,
     "metadata": {},
     "output_type": "execute_result"
    }
   ],
   "source": [
    "df"
   ]
  },
  {
   "cell_type": "code",
   "execution_count": 66,
   "metadata": {},
   "outputs": [],
   "source": [
    "df.to_csv(\"EventInSeoul.csv\", sep='\\t')"
   ]
  },
  {
   "cell_type": "code",
   "execution_count": null,
   "metadata": {},
   "outputs": [],
   "source": []
  }
 ],
 "metadata": {
  "kernelspec": {
   "display_name": "env_mk",
   "language": "python",
   "name": "env_mk"
  },
  "language_info": {
   "codemirror_mode": {
    "name": "ipython",
    "version": 3
   },
   "file_extension": ".py",
   "mimetype": "text/x-python",
   "name": "python",
   "nbconvert_exporter": "python",
   "pygments_lexer": "ipython3",
   "version": "3.7.4"
  }
 },
 "nbformat": 4,
 "nbformat_minor": 4
}
